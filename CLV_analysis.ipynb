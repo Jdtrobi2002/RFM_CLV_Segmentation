{
 "cells": [
  {
   "cell_type": "code",
   "execution_count": null,
   "metadata": {},
   "outputs": [],
   "source": [
    "import pandas as pd\n",
    "import matplotlib.pyplot as plt\n",
    "from datetime import datetime"
   ]
  },
  {
   "cell_type": "code",
   "execution_count": null,
   "metadata": {},
   "outputs": [],
   "source": [
    "data = pd.read_csv('Ecommerce_data.csv')\n",
    "today = datetime(2024,12,19)"
   ]
  },
  {
   "cell_type": "code",
   "execution_count": null,
   "metadata": {},
   "outputs": [],
   "source": [
    "#read data into a DF from csv\n",
    "\n",
    "data['Purchase Date'] =  pd.to_datetime(data['Purchase Date'], dayfirst = True)\n",
    "\n",
    "#converted date column into datetime object"
   ]
  },
  {
   "cell_type": "code",
   "execution_count": null,
   "metadata": {},
   "outputs": [
    {
     "data": {
      "text/plain": [
       "CID\n",
       "100009    6654.278400\n",
       "100037    3573.142000\n",
       "100063     522.900000\n",
       "100089    3168.183000\n",
       "100096    4320.675000\n",
       "             ...     \n",
       "999876    4372.104000\n",
       "999883    1532.622575\n",
       "999910    2646.507150\n",
       "999924    2802.355500\n",
       "999996    2372.506500\n",
       "Length: 29071, dtype: float64\n"
      ]
     },
     "metadata": {},
     "output_type": "display_data"
    }
   ],
   "source": [
    "customers = data.groupby('CID')\n",
    "customer_net = customers['Gross Amount'].sum()\n",
    "customer_count = customers['TID'].count()\n",
    "APV = customer_net/customer_count\n",
    "print(APV)\n",
    "\n",
    "#found average purchase value\n",
    "#APV represents the average amount of money spent by customers per transaction."
   ]
  },
  {
   "cell_type": "code",
   "execution_count": null,
   "metadata": {},
   "outputs": [
    {
     "data": {
      "text/plain": [
       "1.8919197826012177\n"
      ]
     },
     "metadata": {},
     "output_type": "display_data"
    }
   ],
   "source": [
    "PF = (data['TID'].count())/(data['CID'].nunique())\n",
    "print(PF)\n",
    "\n",
    "#found purchase frequency\n",
    "#PF is just total transactions divided by number of unique customers"
   ]
  },
  {
   "cell_type": "code",
   "execution_count": null,
   "metadata": {},
   "outputs": [],
   "source": [
    "CV = APV * PF\n",
    "\n",
    "#found customer value\n",
    "#which is the average purchase value (APV) times the purchase frequency."
   ]
  },
  {
   "cell_type": "code",
   "execution_count": null,
   "metadata": {},
   "outputs": [
    {
     "data": {
      "text/plain": [
       "CID\n",
       "100009    12589.360944\n",
       "100037     6760.098036\n",
       "100063      989.284854\n",
       "100089     5993.948093\n",
       "100096     8174.370507\n",
       "              ...     \n",
       "999876     8271.670049\n",
       "999883     2899.598969\n",
       "999910     5006.979232\n",
       "999924     5301.831808\n",
       "999996     4488.591982\n",
       "Length: 29071, dtype: float64\n"
      ]
     },
     "metadata": {},
     "output_type": "display_data"
    }
   ],
   "source": [
    "print(CV)"
   ]
  },
  {
   "cell_type": "code",
   "execution_count": null,
   "metadata": {},
   "outputs": [
    {
     "data": {
      "text/plain": [
       "1.165431633369978\n"
      ]
     },
     "metadata": {},
     "output_type": "display_data"
    }
   ],
   "source": [
    "diff_in_purchase_date = customers['Purchase Date'].max() - customers['Purchase Date'].min()\n",
    "diff_in_purchase_date = diff_in_purchase_date.dt.days\n",
    "\n",
    "ACL = (diff_in_purchase_date.sum()/data['CID'].nunique())/365\n",
    "print(ACL)\n",
    "\n",
    "#found average customer lifetime (ACL) in years\n",
    "#which represents the average duration a customer remains actively engaged with a business."
   ]
  },
  {
   "cell_type": "code",
   "execution_count": null,
   "metadata": {},
   "outputs": [
    {
     "data": {
      "text/plain": [
       "CID\n",
       "100009    14672.039488\n",
       "100037     7878.432096\n",
       "100063     1152.943864\n",
       "100089     6985.536716\n",
       "100096     9526.669971\n",
       "              ...     \n",
       "999876     9640.065936\n",
       "999883     3379.284362\n",
       "999910     5835.291984\n",
       "999924     6178.922504\n",
       "999996     5231.147085\n",
       "Length: 29071, dtype: float64\n"
      ]
     },
     "metadata": {},
     "output_type": "display_data"
    }
   ],
   "source": [
    "CLV = CV * ACL\n",
    "print(CLV)\n",
    "\n",
    "# Customer Lifetime Value (CLV) represents the total revenue or profit ...\n",
    "# a business expects to earn from a customer over the entire duration of their relationship.\n",
    "# This can inform future business/marketing decisions by identifying high value customers "
   ]
  }
 ],
 "metadata": {
  "language_info": {
   "codemirror_mode": {
    "name": "ipython",
    "version": 3
   },
   "file_extension": ".py",
   "mimetype": "text/x-python",
   "name": "python",
   "nbconvert_exporter": "python",
   "pygments_lexer": "ipython3",
   "version": 3
  }
 },
 "nbformat": 4,
 "nbformat_minor": 2
}
